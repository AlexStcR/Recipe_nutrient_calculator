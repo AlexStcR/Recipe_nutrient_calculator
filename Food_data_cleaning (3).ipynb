{
 "cells": [
  {
   "cell_type": "code",
   "execution_count": 4,
   "id": "74a46b20-9232-495d-bb08-30594f39accb",
   "metadata": {},
   "outputs": [
    {
     "name": "stderr",
     "output_type": "stream",
     "text": [
      "C:\\Users\\rodri\\AppData\\Local\\Temp\\ipykernel_1468\\538307072.py:6: DtypeWarning: Columns (10,11) have mixed types. Specify dtype option on import or set low_memory=False.\n",
      "  food_nutrients = pd.read_csv('food_nutrient.csv')\n"
     ]
    }
   ],
   "source": [
    "import pandas as pd\n",
    "\n",
    "#load USDA files\n",
    "foods = pd.read_csv('food.csv')\n",
    "nutrients = pd.read_csv('nutrient.csv')\n",
    "food_nutrients = pd.read_csv('food_nutrient.csv')\n",
    "food_portions = pd.read_csv('food_portion.csv')\n"
   ]
  },
  {
   "cell_type": "code",
   "execution_count": 5,
   "id": "bcecc9c7-5412-40f9-9173-2883f82d90dc",
   "metadata": {},
   "outputs": [
    {
     "data": {
      "text/plain": [
       "'First, let\\'s check what we have on the datasets, values, keys , etc...I will do it printing some keys values and also part of the \"head\" of dataset\"'"
      ]
     },
     "execution_count": 5,
     "metadata": {},
     "output_type": "execute_result"
    }
   ],
   "source": [
    "'''First, let's check what we have on the datasets, values, keys , etc...I will do it printing some keys values and also part of the \"head\" of dataset\"'''"
   ]
  },
  {
   "cell_type": "code",
   "execution_count": 6,
   "id": "b537aac4-3696-41fb-9bc8-b10306201ba2",
   "metadata": {},
   "outputs": [
    {
     "name": "stdout",
     "output_type": "stream",
     "text": [
      "    fdc_id          data_type  \\\n",
      "0  1105904       branded_food   \n",
      "1  1105905       branded_food   \n",
      "2  1105906       branded_food   \n",
      "3  1105907       branded_food   \n",
      "4  1105898  experimental_food   \n",
      "5  1105899  experimental_food   \n",
      "6  1105900  experimental_food   \n",
      "7  1105901  experimental_food   \n",
      "8  1105902  experimental_food   \n",
      "9  1105908       branded_food   \n",
      "\n",
      "                                         description  food_category_id  \\\n",
      "0                         WESSON Vegetable Oil 1 GAL               NaN   \n",
      "1                                 SWANSON BROTH BEEF               NaN   \n",
      "2           CAMPBELL'S SLOW KETTLE SOUP CLAM CHOWDER               NaN   \n",
      "3        CAMPBELL'S SLOW KETTLE SOUP CHEESE BROCCOLI               NaN   \n",
      "4  Discrepancy between the Atwater factor predict...               NaN   \n",
      "5  Food processing and structure impact the metab...               NaN   \n",
      "6  Metabolizable Energy from Cashew Nuts is Less ...               NaN   \n",
      "7  Measured energy value of pistachios in the hum...               NaN   \n",
      "8  Walnuts Consumed by Healthy Adults Provide Les...               NaN   \n",
      "9                              SWANSON BROTH CHICKEN               NaN   \n",
      "\n",
      "  publication_date  \n",
      "0       2020-11-13  \n",
      "1       2020-11-13  \n",
      "2       2020-11-13  \n",
      "3       2020-11-13  \n",
      "4       2020-10-30  \n",
      "5       2020-10-30  \n",
      "6       2020-10-30  \n",
      "7       2020-10-30  \n",
      "8       2020-10-30  \n",
      "9       2020-11-13  \n"
     ]
    }
   ],
   "source": [
    "print(foods.head(10))"
   ]
  },
  {
   "cell_type": "code",
   "execution_count": 7,
   "id": "0c75545e-6674-4622-8ea6-c2eab17f03c6",
   "metadata": {},
   "outputs": [
    {
     "name": "stdout",
     "output_type": "stream",
     "text": [
      "Index(['fdc_id', 'data_type', 'description', 'food_category_id',\n",
      "       'publication_date'],\n",
      "      dtype='object')\n"
     ]
    }
   ],
   "source": [
    "print(foods.keys())"
   ]
  },
  {
   "cell_type": "code",
   "execution_count": 8,
   "id": "b59317f3-8153-4852-bb77-20977e8d865e",
   "metadata": {},
   "outputs": [
    {
     "name": "stdout",
     "output_type": "stream",
     "text": [
      "     id                                  name unit_name  nutrient_nbr  \\\n",
      "0  2047      Energy (Atwater General Factors)      KCAL         957.0   \n",
      "1  2048     Energy (Atwater Specific Factors)      KCAL         958.0   \n",
      "2  1001                                Solids         G         201.0   \n",
      "3  1002                              Nitrogen         G         202.0   \n",
      "4  1003                               Protein         G         203.0   \n",
      "5  1004                     Total lipid (fat)         G         204.0   \n",
      "6  1005           Carbohydrate, by difference         G         205.0   \n",
      "7  1006  Fiber, crude (DO NOT USE - Archived)         G         206.0   \n",
      "8  1007                                   Ash         G         207.0   \n",
      "9  1008                                Energy      KCAL         208.0   \n",
      "\n",
      "       rank  \n",
      "0     280.0  \n",
      "1     290.0  \n",
      "2     200.0  \n",
      "3     500.0  \n",
      "4     600.0  \n",
      "5     800.0  \n",
      "6    1110.0  \n",
      "7  999999.0  \n",
      "8    1000.0  \n",
      "9     300.0  \n"
     ]
    }
   ],
   "source": [
    "print(nutrients.head(10))"
   ]
  },
  {
   "cell_type": "code",
   "execution_count": 9,
   "id": "d34fc7e2-a94a-48f6-ac38-292934753c58",
   "metadata": {},
   "outputs": [
    {
     "name": "stdout",
     "output_type": "stream",
     "text": [
      "Index(['id', 'name', 'unit_name', 'nutrient_nbr', 'rank'], dtype='object')\n"
     ]
    }
   ],
   "source": [
    "print(nutrients.keys())"
   ]
  },
  {
   "cell_type": "code",
   "execution_count": 238,
   "id": "bfc3425e-009c-4461-83f5-0cb8aab3ae8c",
   "metadata": {},
   "outputs": [
    {
     "name": "stdout",
     "output_type": "stream",
     "text": [
      "         id   fdc_id  nutrient_id  amount  data_points  derivation_id  min  \\\n",
      "0  13706927  1105904         1257    0.00          NaN           71.0  NaN   \n",
      "1  13706930  1105904         1293   53.33          NaN           71.0  NaN   \n",
      "2  13706926  1105904         1253    0.00          NaN           75.0  NaN   \n",
      "3  13706921  1105904         1092    0.00          NaN           75.0  NaN   \n",
      "4  13706916  1105904         1008  867.00          NaN           71.0  NaN   \n",
      "5  13706920  1105904         1089    0.00          NaN           75.0  NaN   \n",
      "6  13706925  1105904         1162    0.00          NaN           75.0  NaN   \n",
      "7  13706928  1105904         1258   13.33          NaN           71.0  NaN   \n",
      "8  13706919  1105904         1087    0.00          NaN           75.0  NaN   \n",
      "9  13706929  1105904         1292   20.00          NaN           71.0  NaN   \n",
      "\n",
      "   max  median  loq footnote min_year_acquired  \n",
      "0  NaN     NaN  NaN      NaN               NaN  \n",
      "1  NaN     NaN  NaN      NaN               NaN  \n",
      "2  NaN     NaN  NaN      NaN               NaN  \n",
      "3  NaN     NaN  NaN      NaN               NaN  \n",
      "4  NaN     NaN  NaN      NaN               NaN  \n",
      "5  NaN     NaN  NaN      NaN               NaN  \n",
      "6  NaN     NaN  NaN      NaN               NaN  \n",
      "7  NaN     NaN  NaN      NaN               NaN  \n",
      "8  NaN     NaN  NaN      NaN               NaN  \n",
      "9  NaN     NaN  NaN      NaN               NaN  \n"
     ]
    }
   ],
   "source": [
    "print(food_nutrients.head(10))"
   ]
  },
  {
   "cell_type": "code",
   "execution_count": 240,
   "id": "f80b6d6f-0a73-442b-a677-0cbc3855de99",
   "metadata": {},
   "outputs": [
    {
     "name": "stdout",
     "output_type": "stream",
     "text": [
      "Index(['id', 'fdc_id', 'nutrient_id', 'amount', 'data_points', 'derivation_id',\n",
      "       'min', 'max', 'median', 'loq', 'footnote', 'min_year_acquired'],\n",
      "      dtype='object')\n"
     ]
    }
   ],
   "source": [
    "print(food_nutrients.keys())"
   ]
  },
  {
   "cell_type": "code",
   "execution_count": 16,
   "id": "ecc79042-73e0-4a16-add5-0e3c2632ded9",
   "metadata": {},
   "outputs": [
    {
     "name": "stdout",
     "output_type": "stream",
     "text": [
      "      id  fdc_id  seq_num  amount  measure_unit_id portion_description  \\\n",
      "0  81549  167512      1.0     1.0             9999                 NaN   \n",
      "1  81550  167513      1.0     1.0             9999                 NaN   \n",
      "2  81551  167514      1.0     1.0             9999                 NaN   \n",
      "3  81552  167515      1.0     1.0             9999                 NaN   \n",
      "4  81553  167516      1.0     1.0             9999                 NaN   \n",
      "5  81554  167516      2.0     1.0             9999                 NaN   \n",
      "6  81555  167517      1.0     1.0             9999                 NaN   \n",
      "7  81556  167517      2.0     1.0             9999                 NaN   \n",
      "8  81557  167518      1.0     1.0             9999                 NaN   \n",
      "9  81558  167519      1.0     1.0             9999                 NaN   \n",
      "\n",
      "                    modifier  gram_weight  data_points  footnote  \\\n",
      "0                    serving         34.0          NaN       NaN   \n",
      "1  serving 1 roll with icing         44.0          1.0       NaN   \n",
      "2                    serving         28.0          NaN       NaN   \n",
      "3                    serving         57.0          NaN       NaN   \n",
      "4             waffle, square         39.0         10.0       NaN   \n",
      "5              waffle, round         38.0         40.0       NaN   \n",
      "6                         oz         28.0          NaN       NaN   \n",
      "7      waffle round (4\" dia)         33.0          NaN       NaN   \n",
      "8                     waffle         35.0          NaN       NaN   \n",
      "9      waffle, round (4\"dia)         32.0          NaN       NaN   \n",
      "\n",
      "   min_year_acquired  \n",
      "0                NaN  \n",
      "1                NaN  \n",
      "2                NaN  \n",
      "3                NaN  \n",
      "4                NaN  \n",
      "5                NaN  \n",
      "6                NaN  \n",
      "7                NaN  \n",
      "8                NaN  \n",
      "9                NaN  \n"
     ]
    }
   ],
   "source": [
    "print(food_portions.head(10))"
   ]
  },
  {
   "cell_type": "code",
   "execution_count": 18,
   "id": "f347ced4-4f84-4ffe-8510-055b5c47d50d",
   "metadata": {},
   "outputs": [],
   "source": [
    "#basic cleaning"
   ]
  },
  {
   "cell_type": "code",
   "execution_count": 20,
   "id": "b1d0730d-763c-40ce-a4a3-b76e9f8609db",
   "metadata": {},
   "outputs": [],
   "source": [
    "# Clean food names, some are upper, some are lower, let's make all lower\n",
    "foods['description'] = foods['description'].str.strip().str.lower()\n",
    "\n",
    "# Remove test entries, if we find it\n",
    "foods = foods[~foods['description'].str.contains('test', na=False)]\n",
    "\n",
    "# Remove duplicate foods\n",
    "# target duplicates in specific columns using the subset parameter\n",
    "foods = foods.drop_duplicates(subset=['fdc_id'])\n",
    "#remove nan\n",
    "foods= foods.dropna(how='all')"
   ]
  },
  {
   "cell_type": "code",
   "execution_count": 22,
   "id": "516a7e2b-5a34-4b7e-b8ed-736a9209b603",
   "metadata": {},
   "outputs": [
    {
     "name": "stdout",
     "output_type": "stream",
     "text": [
      "    fdc_id          data_type  \\\n",
      "0  1105904       branded_food   \n",
      "1  1105905       branded_food   \n",
      "2  1105906       branded_food   \n",
      "3  1105907       branded_food   \n",
      "4  1105898  experimental_food   \n",
      "5  1105899  experimental_food   \n",
      "6  1105900  experimental_food   \n",
      "7  1105901  experimental_food   \n",
      "8  1105902  experimental_food   \n",
      "9  1105908       branded_food   \n",
      "\n",
      "                                         description  food_category_id  \\\n",
      "0                         wesson vegetable oil 1 gal               NaN   \n",
      "1                                 swanson broth beef               NaN   \n",
      "2           campbell's slow kettle soup clam chowder               NaN   \n",
      "3        campbell's slow kettle soup cheese broccoli               NaN   \n",
      "4  discrepancy between the atwater factor predict...               NaN   \n",
      "5  food processing and structure impact the metab...               NaN   \n",
      "6  metabolizable energy from cashew nuts is less ...               NaN   \n",
      "7  measured energy value of pistachios in the hum...               NaN   \n",
      "8  walnuts consumed by healthy adults provide les...               NaN   \n",
      "9                              swanson broth chicken               NaN   \n",
      "\n",
      "  publication_date  \n",
      "0       2020-11-13  \n",
      "1       2020-11-13  \n",
      "2       2020-11-13  \n",
      "3       2020-11-13  \n",
      "4       2020-10-30  \n",
      "5       2020-10-30  \n",
      "6       2020-10-30  \n",
      "7       2020-10-30  \n",
      "8       2020-10-30  \n",
      "9       2020-11-13  \n"
     ]
    }
   ],
   "source": [
    "print(foods.head(10))"
   ]
  },
  {
   "cell_type": "code",
   "execution_count": 24,
   "id": "659aef7b-f345-454a-a74b-0c5923577281",
   "metadata": {},
   "outputs": [
    {
     "name": "stdout",
     "output_type": "stream",
     "text": [
      "          fdc_id     data_type description  food_category_id publication_date\n",
      "74327     362759  branded_food      banana               NaN       2019-04-01\n",
      "75506     363938  branded_food      banana               NaN       2019-04-01\n",
      "613069   1176358  branded_food      banana               NaN       2021-02-26\n",
      "614102   1177391  branded_food      banana               NaN       2021-02-26\n",
      "897401   1468381  branded_food      banana               NaN       2021-03-19\n",
      "898438   1469418  branded_food      banana               NaN       2021-03-19\n",
      "1394339  2011468  branded_food      banana               NaN       2021-10-28\n",
      "1394999  2012128  branded_food      banana               NaN       2021-10-28\n"
     ]
    }
   ],
   "source": [
    "#checking duplicates\n",
    "print(foods[foods[\"description\"] == \"banana\"])"
   ]
  },
  {
   "cell_type": "code",
   "execution_count": 26,
   "id": "c8cc57b0-7c0f-48cc-b674-ad4f12126d21",
   "metadata": {},
   "outputs": [],
   "source": [
    "remove_duplicates=foods.drop_duplicates()"
   ]
  },
  {
   "cell_type": "code",
   "execution_count": 27,
   "id": "12967964-0502-45ae-bd45-d6fef40db38a",
   "metadata": {},
   "outputs": [
    {
     "name": "stdout",
     "output_type": "stream",
     "text": [
      "          fdc_id     data_type description  food_category_id publication_date\n",
      "74327     362759  branded_food      banana               NaN       2019-04-01\n",
      "75506     363938  branded_food      banana               NaN       2019-04-01\n",
      "613069   1176358  branded_food      banana               NaN       2021-02-26\n",
      "614102   1177391  branded_food      banana               NaN       2021-02-26\n",
      "897401   1468381  branded_food      banana               NaN       2021-03-19\n",
      "898438   1469418  branded_food      banana               NaN       2021-03-19\n",
      "1394339  2011468  branded_food      banana               NaN       2021-10-28\n",
      "1394999  2012128  branded_food      banana               NaN       2021-10-28\n"
     ]
    }
   ],
   "source": [
    "print(foods[foods[\"description\"] == \"banana\"])"
   ]
  },
  {
   "cell_type": "code",
   "execution_count": 114,
   "id": "64ed1c6e-442f-4877-a6a5-c160ebae5ba1",
   "metadata": {},
   "outputs": [
    {
     "name": "stdout",
     "output_type": "stream",
     "text": [
      "      id  fdc_id  seq_num  amount  measure_unit_id portion_description  \\\n",
      "0  81549  167512      1.0     1.0             9999                 NaN   \n",
      "\n",
      "  modifier  gram_weight  data_points  footnote  min_year_acquired  \n",
      "0  serving         34.0          NaN       NaN                NaN  \n"
     ]
    }
   ],
   "source": [
    "#check the food portions data \n",
    "\n",
    "print(food_portions.head(1))"
   ]
  },
  {
   "cell_type": "code",
   "execution_count": 32,
   "id": "f843ddd6-96c5-411e-a204-5a720de65c86",
   "metadata": {},
   "outputs": [],
   "source": [
    "#Different foods use different units (cups, ounces, slices), but grams are universal for nutritional calculations.\n"
   ]
  },
  {
   "cell_type": "code",
   "execution_count": 116,
   "id": "83f1d9b0-2a82-4f67-b819-db2ba23562e8",
   "metadata": {},
   "outputs": [],
   "source": [
    "# . Filter for gram-based portions\n",
    "#selecting relevant columns\n",
    "\n",
    "\n",
    "#fdc_id: Unique food identifier (to merge with other data later).\n",
    "\n",
    "#amount: The gram-based serving size (critical for calculations).\n",
    "gram_portions = food_portions[food_portions['measure_unit_id'] == 1]  # 1 = grams\n",
    "gram_portions = gram_portions[['fdc_id', 'amount']].rename(columns={'amount': 'serving_size'})\n"
   ]
  },
  {
   "cell_type": "code",
   "execution_count": 118,
   "id": "ac5653f3-26dd-467a-87d7-28a9f096bfcb",
   "metadata": {},
   "outputs": [
    {
     "name": "stdout",
     "output_type": "stream",
     "text": [
      "Empty DataFrame\n",
      "Columns: [id, name, unit_name, nutrient_nbr, rank]\n",
      "Index: []\n"
     ]
    }
   ],
   "source": [
    " # Define target nutrients using USDA's EXACT names\n",
    "#find nutrients names and ID\n",
    "print(nutrients[nutrients['name'].str.contains('Carbohydrated')])\n",
    "#no result in this method\n"
   ]
  },
  {
   "cell_type": "code",
   "execution_count": 38,
   "id": "51549233-cf40-43a1-a5ea-7a4879dd278d",
   "metadata": {},
   "outputs": [
    {
     "name": "stdout",
     "output_type": "stream",
     "text": [
      "       id                         name\n",
      "6    1005  Carbohydrate, by difference\n",
      "51   1050   Carbohydrate, by summation\n",
      "73   1072          Carbohydrate, other\n",
      "450  2039                Carbohydrates\n"
     ]
    }
   ],
   "source": [
    "Carbohydrates = nutrients[nutrients['name'].str.contains('Carbohydrate')]\n",
    "print(Carbohydrates[['id', 'name']])"
   ]
  },
  {
   "cell_type": "code",
   "execution_count": 40,
   "id": "deaf6b89-cd66-4f24-afda-a2dc75f2b4ce",
   "metadata": {},
   "outputs": [],
   "source": [
    "#I will take the id 1005 "
   ]
  },
  {
   "cell_type": "code",
   "execution_count": 42,
   "id": "c7aeacfc-754f-4bbf-a70d-34c319c14cc5",
   "metadata": {},
   "outputs": [
    {
     "name": "stdout",
     "output_type": "stream",
     "text": [
      "      id              name\n",
      "4   1003           Protein\n",
      "54  1053  Adjusted Protein\n"
     ]
    }
   ],
   "source": [
    "Protein = nutrients[nutrients['name'].str.contains('Protein')]\n",
    "print(Protein[['id', 'name']])\n",
    "#Protein is id 1003, clear!"
   ]
  },
  {
   "cell_type": "code",
   "execution_count": 44,
   "id": "ad013e74-bada-4d8f-9f64-d0fba5f847ee",
   "metadata": {},
   "outputs": [
    {
     "name": "stdout",
     "output_type": "stream",
     "text": [
      "      id                               name\n",
      "0   2047   Energy (Atwater General Factors)\n",
      "1   2048  Energy (Atwater Specific Factors)\n",
      "9   1008                             Energy\n",
      "63  1062                             Energy\n"
     ]
    }
   ],
   "source": [
    "Energy = nutrients[nutrients['name'].str.contains('Energy')]\n",
    "print(Energy[['id', 'name']])\n",
    "#I will take the 1008 as standard energy "
   ]
  },
  {
   "cell_type": "code",
   "execution_count": 120,
   "id": "fbd62405-e219-4f39-8e8f-7a40686d4a04",
   "metadata": {},
   "outputs": [
    {
     "name": "stdout",
     "output_type": "stream",
     "text": [
      "      id               name\n",
      "5   1004  Total lipid (fat)\n",
      "50  1049    Solids, non-fat\n",
      "86  1085   Total fat (NLEA)\n"
     ]
    }
   ],
   "source": [
    "fat = nutrients[nutrients['name'].str.contains('fat')]\n",
    "print(fat[['id', 'name']])\n",
    "#for fat, I will take the 1004 "
   ]
  },
  {
   "cell_type": "code",
   "execution_count": 48,
   "id": "187a46b0-9cb1-47e6-9bd3-ba105f94ec5e",
   "metadata": {},
   "outputs": [],
   "source": [
    "#  adjustment (use names from nutrient.csv):\n",
    "#create a dic with id and nutrients name\n",
    "TARGET_NUTRIENTS = {\n",
    "    1008: 'Energy',                      # USDA name for calories\n",
    "    1003: 'Protein',                     # USDA name for protein\n",
    "    1005: 'Carbohydrate, by difference', # USDA name for carbs\n",
    "    1004: 'Total lipid (fat)'            # USDA name for fat\n",
    "}\n"
   ]
  },
  {
   "cell_type": "code",
   "execution_count": 64,
   "id": "127710e3-5fd1-4df6-ba89-4380dec0d299",
   "metadata": {},
   "outputs": [
    {
     "name": "stdout",
     "output_type": "stream",
     "text": [
      "      id  fdc_id  seq_num  amount  measure_unit_id portion_description  \\\n",
      "0  81549  167512      1.0     1.0             9999                 NaN   \n",
      "1  81550  167513      1.0     1.0             9999                 NaN   \n",
      "2  81551  167514      1.0     1.0             9999                 NaN   \n",
      "3  81552  167515      1.0     1.0             9999                 NaN   \n",
      "4  81553  167516      1.0     1.0             9999                 NaN   \n",
      "5  81554  167516      2.0     1.0             9999                 NaN   \n",
      "6  81555  167517      1.0     1.0             9999                 NaN   \n",
      "7  81556  167517      2.0     1.0             9999                 NaN   \n",
      "8  81557  167518      1.0     1.0             9999                 NaN   \n",
      "9  81558  167519      1.0     1.0             9999                 NaN   \n",
      "\n",
      "                    modifier  gram_weight  data_points  footnote  \\\n",
      "0                    serving         34.0          NaN       NaN   \n",
      "1  serving 1 roll with icing         44.0          1.0       NaN   \n",
      "2                    serving         28.0          NaN       NaN   \n",
      "3                    serving         57.0          NaN       NaN   \n",
      "4             waffle, square         39.0         10.0       NaN   \n",
      "5              waffle, round         38.0         40.0       NaN   \n",
      "6                         oz         28.0          NaN       NaN   \n",
      "7      waffle round (4\" dia)         33.0          NaN       NaN   \n",
      "8                     waffle         35.0          NaN       NaN   \n",
      "9      waffle, round (4\"dia)         32.0          NaN       NaN   \n",
      "\n",
      "   min_year_acquired  \n",
      "0                NaN  \n",
      "1                NaN  \n",
      "2                NaN  \n",
      "3                NaN  \n",
      "4                NaN  \n",
      "5                NaN  \n",
      "6                NaN  \n",
      "7                NaN  \n",
      "8                NaN  \n",
      "9                NaN  \n"
     ]
    }
   ],
   "source": [
    "print(food_portions.head(10))"
   ]
  },
  {
   "cell_type": "code",
   "execution_count": 80,
   "id": "fc373633-d315-4000-82fa-a783fa1fef64",
   "metadata": {},
   "outputs": [],
   "source": [
    " # Now we need to Merge nutrient names with food nutrients\n",
    "merged = pd.merge(\n",
    "        food_nutrients,\n",
    "        nutrients[['id', 'name']],\n",
    "        left_on='nutrient_id',\n",
    "        right_on='id'\n",
    "    )\n",
    "    "
   ]
  },
  {
   "cell_type": "code",
   "execution_count": 81,
   "id": "c693a5f9-a4f6-4d16-ada0-29cb41580ef3",
   "metadata": {},
   "outputs": [
    {
     "name": "stdout",
     "output_type": "stream",
     "text": [
      "       id_x   fdc_id  nutrient_id  amount  data_points  derivation_id  min  \\\n",
      "0  13706927  1105904         1257    0.00          NaN           71.0  NaN   \n",
      "1  13706930  1105904         1293   53.33          NaN           71.0  NaN   \n",
      "2  13706926  1105904         1253    0.00          NaN           75.0  NaN   \n",
      "3  13706921  1105904         1092    0.00          NaN           75.0  NaN   \n",
      "4  13706916  1105904         1008  867.00          NaN           71.0  NaN   \n",
      "5  13706920  1105904         1089    0.00          NaN           75.0  NaN   \n",
      "6  13706925  1105904         1162    0.00          NaN           75.0  NaN   \n",
      "7  13706928  1105904         1258   13.33          NaN           71.0  NaN   \n",
      "8  13706919  1105904         1087    0.00          NaN           75.0  NaN   \n",
      "9  13706929  1105904         1292   20.00          NaN           71.0  NaN   \n",
      "\n",
      "   max  median  loq footnote min_year_acquired  id_y  \\\n",
      "0  NaN     NaN  NaN      NaN               NaN  1257   \n",
      "1  NaN     NaN  NaN      NaN               NaN  1293   \n",
      "2  NaN     NaN  NaN      NaN               NaN  1253   \n",
      "3  NaN     NaN  NaN      NaN               NaN  1092   \n",
      "4  NaN     NaN  NaN      NaN               NaN  1008   \n",
      "5  NaN     NaN  NaN      NaN               NaN  1089   \n",
      "6  NaN     NaN  NaN      NaN               NaN  1162   \n",
      "7  NaN     NaN  NaN      NaN               NaN  1258   \n",
      "8  NaN     NaN  NaN      NaN               NaN  1087   \n",
      "9  NaN     NaN  NaN      NaN               NaN  1292   \n",
      "\n",
      "                                 name  \n",
      "0            Fatty acids, total trans  \n",
      "1  Fatty acids, total polyunsaturated  \n",
      "2                         Cholesterol  \n",
      "3                        Potassium, K  \n",
      "4                              Energy  \n",
      "5                            Iron, Fe  \n",
      "6      Vitamin C, total ascorbic acid  \n",
      "7        Fatty acids, total saturated  \n",
      "8                         Calcium, Ca  \n",
      "9  Fatty acids, total monounsaturated  \n"
     ]
    }
   ],
   "source": [
    "print(merged.head(10))"
   ]
  },
  {
   "cell_type": "code",
   "execution_count": 82,
   "id": "1775481c-cd06-45af-a0e9-96640e7a45ef",
   "metadata": {},
   "outputs": [],
   "source": [
    "#we need to filter for the target nutrients we want \n",
    "filtered = merged[merged['nutrient_id'].isin(TARGET_NUTRIENTS.keys())]"
   ]
  },
  {
   "cell_type": "code",
   "execution_count": 83,
   "id": "3158d16e-0c97-416f-b08f-8af73e8a8b1a",
   "metadata": {},
   "outputs": [
    {
     "name": "stdout",
     "output_type": "stream",
     "text": [
      "        id_x   fdc_id  nutrient_id  amount  data_points  derivation_id  min  \\\n",
      "4   13706916  1105904         1008  867.00          NaN           71.0  NaN   \n",
      "15  13706915  1105904         1005    0.00          NaN           75.0  NaN   \n",
      "16  13706914  1105904         1004   93.33          NaN           71.0  NaN   \n",
      "17  13706913  1105904         1003    0.00          NaN           71.0  NaN   \n",
      "21  13706207  1105905         1005    0.42          NaN           73.0  NaN   \n",
      "22  13706206  1105905         1004    0.00          NaN           75.0  NaN   \n",
      "23  13706208  1105905         1008    4.00          NaN           71.0  NaN   \n",
      "29  13706205  1105905         1003    0.83          NaN           71.0  NaN   \n",
      "32  13706299  1105906         1004    5.31          NaN           71.0  NaN   \n",
      "33  13706300  1105906         1005    6.12          NaN           71.0  NaN   \n",
      "\n",
      "    max  median  loq footnote min_year_acquired  id_y  \\\n",
      "4   NaN     NaN  NaN      NaN               NaN  1008   \n",
      "15  NaN     NaN  NaN      NaN               NaN  1005   \n",
      "16  NaN     NaN  NaN      NaN               NaN  1004   \n",
      "17  NaN     NaN  NaN      NaN               NaN  1003   \n",
      "21  NaN     NaN  NaN      NaN               NaN  1005   \n",
      "22  NaN     NaN  NaN      NaN               NaN  1004   \n",
      "23  NaN     NaN  NaN      NaN               NaN  1008   \n",
      "29  NaN     NaN  NaN      NaN               NaN  1003   \n",
      "32  NaN     NaN  NaN      NaN               NaN  1004   \n",
      "33  NaN     NaN  NaN      NaN               NaN  1005   \n",
      "\n",
      "                           name  \n",
      "4                        Energy  \n",
      "15  Carbohydrate, by difference  \n",
      "16            Total lipid (fat)  \n",
      "17                      Protein  \n",
      "21  Carbohydrate, by difference  \n",
      "22            Total lipid (fat)  \n",
      "23                       Energy  \n",
      "29                      Protein  \n",
      "32            Total lipid (fat)  \n",
      "33  Carbohydrate, by difference  \n"
     ]
    }
   ],
   "source": [
    "print(filtered.head(10))"
   ]
  },
  {
   "cell_type": "code",
   "execution_count": 88,
   "id": "b8c9a128-032c-4b15-91a7-fd4a7636045c",
   "metadata": {},
   "outputs": [],
   "source": [
    "#Now pivot in wide format \n",
    "pivot_df = filtered.pivot_table(\n",
    "        index='fdc_id',\n",
    "        columns='name',\n",
    "        values='amount',\n",
    "        aggfunc='first'\n",
    "    ).reset_index()"
   ]
  },
  {
   "cell_type": "code",
   "execution_count": 89,
   "id": "3afd4485-1db8-410e-90ac-4ea1c55afc78",
   "metadata": {},
   "outputs": [
    {
     "name": "stdout",
     "output_type": "stream",
     "text": [
      "name  fdc_id  Carbohydrate, by difference  Energy  Protein  Total lipid (fat)\n",
      "0     167512                        41.18   307.0     5.88              13.24\n",
      "1     167513                        53.42   330.0     4.34              11.27\n",
      "2     167514                        79.80   377.0     6.10               3.70\n",
      "3     167515                        46.00   232.0     8.00               1.80\n",
      "4     167516                        41.05   273.0     6.58               9.22\n",
      "5     167517                        48.39   309.0     7.42               9.49\n",
      "6     167518                        44.16   289.0     6.92               9.40\n",
      "7     167519                        45.41   298.0     6.71               9.91\n",
      "8     167520                        64.30   501.0     5.10              24.83\n",
      "9     167521                        64.48   484.0     6.08              22.42\n"
     ]
    }
   ],
   "source": [
    "print(pivot_df.head(10))"
   ]
  },
  {
   "cell_type": "code",
   "execution_count": 122,
   "id": "9879ab85-e629-47a6-8636-6f4e2373d55c",
   "metadata": {},
   "outputs": [],
   "source": [
    "#Combine food metadata with nutrient values\n",
    "final_df = pd.merge(\n",
    "        pd.merge(foods, pivot_df, on='fdc_id'),\n",
    "        gram_portions,\n",
    "        on='fdc_id',\n",
    "        how='left'\n",
    "    )\n",
    "#Foods without serving_size get default value of 100g\n",
    "\n",
    "#Ensures no NaN errors in subsequent calculations\n",
    "final_df['serving_size'] = final_df['serving_size'].fillna(100)\n",
    "    \n",
    "for nutrient in TARGET_NUTRIENTS.values():\n",
    "    #Nutrient per 100g = (Original Nutrient Value) × (100 / Serving Size)\n",
    "        final_df[nutrient] = final_df[nutrient] * 100 / final_df['serving_size']\n",
    "    \n",
    "final_df = final_df.rename(columns={\n",
    "        'Energy': 'calories',\n",
    "        'Protein': 'protein',\n",
    "        'Carbohydrate, by difference': 'carbs',\n",
    "        'Total lipid (fat)': 'fat'\n",
    "    })\n",
    "    \n",
    "keep_cols = ['description', 'calories', 'protein', 'carbs', 'fat']\n",
    "final_data = final_df[keep_cols]"
   ]
  },
  {
   "cell_type": "code",
   "execution_count": 124,
   "id": "0ca8d661-4972-4486-92ac-3ca1a3831b7d",
   "metadata": {},
   "outputs": [
    {
     "data": {
      "text/html": [
       "<div>\n",
       "<style scoped>\n",
       "    .dataframe tbody tr th:only-of-type {\n",
       "        vertical-align: middle;\n",
       "    }\n",
       "\n",
       "    .dataframe tbody tr th {\n",
       "        vertical-align: top;\n",
       "    }\n",
       "\n",
       "    .dataframe thead th {\n",
       "        text-align: right;\n",
       "    }\n",
       "</style>\n",
       "<table border=\"1\" class=\"dataframe\">\n",
       "  <thead>\n",
       "    <tr style=\"text-align: right;\">\n",
       "      <th></th>\n",
       "      <th>description</th>\n",
       "      <th>calories</th>\n",
       "      <th>protein</th>\n",
       "      <th>carbs</th>\n",
       "      <th>fat</th>\n",
       "    </tr>\n",
       "  </thead>\n",
       "  <tbody>\n",
       "    <tr>\n",
       "      <th>0</th>\n",
       "      <td>wesson vegetable oil 1 gal</td>\n",
       "      <td>867.0</td>\n",
       "      <td>0.00</td>\n",
       "      <td>0.00</td>\n",
       "      <td>93.33</td>\n",
       "    </tr>\n",
       "    <tr>\n",
       "      <th>1</th>\n",
       "      <td>swanson broth beef</td>\n",
       "      <td>4.0</td>\n",
       "      <td>0.83</td>\n",
       "      <td>0.42</td>\n",
       "      <td>0.00</td>\n",
       "    </tr>\n",
       "    <tr>\n",
       "      <th>2</th>\n",
       "      <td>campbell's slow kettle soup clam chowder</td>\n",
       "      <td>82.0</td>\n",
       "      <td>2.45</td>\n",
       "      <td>6.12</td>\n",
       "      <td>5.31</td>\n",
       "    </tr>\n",
       "    <tr>\n",
       "      <th>3</th>\n",
       "      <td>campbell's slow kettle soup cheese broccoli</td>\n",
       "      <td>82.0</td>\n",
       "      <td>1.22</td>\n",
       "      <td>5.31</td>\n",
       "      <td>6.12</td>\n",
       "    </tr>\n",
       "    <tr>\n",
       "      <th>4</th>\n",
       "      <td>swanson broth chicken</td>\n",
       "      <td>4.0</td>\n",
       "      <td>0.83</td>\n",
       "      <td>0.42</td>\n",
       "      <td>0.00</td>\n",
       "    </tr>\n",
       "  </tbody>\n",
       "</table>\n",
       "</div>"
      ],
      "text/plain": [
       "                                   description  calories  protein  carbs  \\\n",
       "0                   wesson vegetable oil 1 gal     867.0     0.00   0.00   \n",
       "1                           swanson broth beef       4.0     0.83   0.42   \n",
       "2     campbell's slow kettle soup clam chowder      82.0     2.45   6.12   \n",
       "3  campbell's slow kettle soup cheese broccoli      82.0     1.22   5.31   \n",
       "4                        swanson broth chicken       4.0     0.83   0.42   \n",
       "\n",
       "     fat  \n",
       "0  93.33  \n",
       "1   0.00  \n",
       "2   5.31  \n",
       "3   6.12  \n",
       "4   0.00  "
      ]
     },
     "execution_count": 124,
     "metadata": {},
     "output_type": "execute_result"
    }
   ],
   "source": [
    "final_data.to_csv('cleaned_usda_foods.csv', index=False)\n",
    "final_data.head()"
   ]
  },
  {
   "cell_type": "code",
   "execution_count": 92,
   "id": "5474b857-fa2c-4d20-8d7e-fd5800aa27e2",
   "metadata": {},
   "outputs": [
    {
     "name": "stdout",
     "output_type": "stream",
     "text": [
      "                                   description  calories  protein  carbs  \\\n",
      "0                   wesson vegetable oil 1 gal     867.0     0.00   0.00   \n",
      "1                           swanson broth beef       4.0     0.83   0.42   \n",
      "2     campbell's slow kettle soup clam chowder      82.0     2.45   6.12   \n",
      "3  campbell's slow kettle soup cheese broccoli      82.0     1.22   5.31   \n",
      "4                        swanson broth chicken       4.0     0.83   0.42   \n",
      "\n",
      "     fat  \n",
      "0  93.33  \n",
      "1   0.00  \n",
      "2   5.31  \n",
      "3   6.12  \n",
      "4   0.00  \n"
     ]
    }
   ],
   "source": [
    "test = pd.read_csv('cleaned_usda_foods.csv')\n",
    "print(test.head())"
   ]
  },
  {
   "cell_type": "code",
   "execution_count": 131,
   "id": "e11facc0-a5bd-4122-b61c-607e62808d6f",
   "metadata": {},
   "outputs": [],
   "source": [
    "result = final_data[final_data[\"description\"] == \"banana\"]"
   ]
  },
  {
   "cell_type": "code",
   "execution_count": 132,
   "id": "6669d49f-8440-4439-ae65-24608962ec14",
   "metadata": {},
   "outputs": [
    {
     "name": "stdout",
     "output_type": "stream",
     "text": [
      "        description  calories  protein  carbs   fat\n",
      "61085        banana     336.0      0.0  78.57  1.07\n",
      "62264        banana     312.0     12.5  40.62  6.25\n",
      "581542       banana     336.0      0.0  78.57  1.07\n",
      "582441       banana     312.0     12.5  40.62  6.25\n",
      "803190       banana     336.0      0.0  78.57  1.07\n",
      "804227       banana     312.0     12.5  40.62  6.25\n",
      "1285527      banana     336.0      0.0  78.57  1.07\n",
      "1286187      banana     312.0     12.5  40.62  6.25\n"
     ]
    }
   ],
   "source": [
    "print(result)"
   ]
  },
  {
   "cell_type": "code",
   "execution_count": 133,
   "id": "29f87224-5823-495e-9871-74790d622a2e",
   "metadata": {},
   "outputs": [],
   "source": [
    "#check duplicates\n",
    "duplicates = final_data['description'].duplicated()"
   ]
  },
  {
   "cell_type": "code",
   "execution_count": 134,
   "id": "8fa37eb2-da61-41fe-8a2d-be396250beaa",
   "metadata": {},
   "outputs": [
    {
     "name": "stdout",
     "output_type": "stream",
     "text": [
      "0          False\n",
      "1          False\n",
      "2          False\n",
      "3          False\n",
      "4          False\n",
      "           ...  \n",
      "1855521     True\n",
      "1855522     True\n",
      "1855523     True\n",
      "1855524     True\n",
      "1855525    False\n",
      "Name: description, Length: 1855526, dtype: bool\n"
     ]
    }
   ],
   "source": [
    "print(duplicates)"
   ]
  },
  {
   "cell_type": "code",
   "execution_count": 140,
   "id": "3200b435-7624-4e9e-8a1c-682976af930c",
   "metadata": {},
   "outputs": [],
   "source": [
    "remove_duplicates=final_data['description'].drop_duplicates()"
   ]
  },
  {
   "cell_type": "code",
   "execution_count": 142,
   "id": "bfb929a8-4b44-4346-bf9e-5b98052f23b9",
   "metadata": {},
   "outputs": [
    {
     "name": "stdout",
     "output_type": "stream",
     "text": [
      "Saved 1855526 foods to cleaned_usda_foods.csv\n"
     ]
    }
   ],
   "source": [
    "final_data.to_csv('cleaned_usda_foods.csv', index=False)  # <-- This saves the file\n",
    "\n",
    "print(f\"Saved {len(final_data)} foods to cleaned_usda_foods.csv\")#check if it's saved!"
   ]
  },
  {
   "cell_type": "code",
   "execution_count": 146,
   "id": "68bd4a24-29d0-4e2a-9e9f-77a87ea9aae6",
   "metadata": {},
   "outputs": [
    {
     "data": {
      "text/plain": [
       "'step by step :\\n\\n\\n\\n\\ntep-by-Step Process of Cleaning USDA Food Data for Nutritional Analysis\\n\\nAs a data professional, cleaning messy datasets is a critical step before analysis. Here’s a breakdown of how I cleaned the USDA food database to create a reliable dataset for nutritional insights:\\n\\n1. Loading & Initial Inspection\\nDatasets Involved:\\n\\nfoods.csv (food metadata),\\n\\nnutrient.csv (nutrient definitions),\\n\\nfood_nutrient.csv (nutrient amounts per food),\\n\\nfood_portion.csv (serving sizes).\\n\\nFirst Checks: Printed column names and sample rows to understand the structure and spot inconsistencies (e.g., mixed data types in food_nutrient.csv).\\n\\n2. Cleaning Food Metadata\\nStandardized Descriptions: Converted food names to lowercase and trimmed whitespace to ensure uniformity.\\n\\nRemoved Test Entries: Filtered out rows with \"test\" in descriptions to avoid dummy data.\\n\\nDeduplication: Dropped duplicates using fdc_id (unique food ID) to retain one entry per food item.\\n\\nHandling Missing Values: Removed rows with all NaN values, though some columns (like food_category_id) retained NaNs if partial data was acceptable.\\n\\n3. Standardizing Serving Sizes\\nFocused on Grams: Filtered food_portion data to use only gram-based measurements (measure_unit_id = 1), critical for consistent nutritional calculations.\\n\\nDefault Serving Size: Assigned 100g as the default serving size for foods lacking portion data to simplify comparisons.\\n\\n4. Identifying Key Nutrients\\nTarget Nutrients: Energy (calories), protein, carbohydrates, and fat.\\n\\nMapped Nutrient IDs: Used exact names from nutrient.csv (e.g., Energy, Total lipid (fat)) to avoid mismatches.\\n\\n5. Merging & Reshaping Data\\nLinked Nutrients to Foods: Joined food_nutrient with nutrient to attach nutrient names to their IDs.\\n\\nPivoted to Wide Format: Transformed the dataset to have one row per food (fdc_id) with columns for each nutrient’s amount.\\n\\n6. Final Adjustments\\nCalculated per 100g Values: Adjusted nutrient amounts using formula:\\n(nutrient value) * (100 / serving size) for consistency.\\n\\nRenamed Columns: Simplified headers (e.g., Energy → calories) for clarity.\\n\\nAddressed Duplicates: While some foods shared names (e.g., \"banana\"), unique fdc_ids ensured distinct entries were retained.\\n\\n7. Output\\nSaved the cleaned dataset (cleaned_usda_foods.csv) with columns:\\ndescription, calories, protein, carbs, fat.\\n'"
      ]
     },
     "execution_count": 146,
     "metadata": {},
     "output_type": "execute_result"
    }
   ],
   "source": [
    "'''step by step :\n",
    "\n",
    "\n",
    "\n",
    "\n",
    "tep-by-Step Process of Cleaning USDA Food Data for Nutritional Analysis\n",
    "\n",
    "As a data professional, cleaning messy datasets is a critical step before analysis. Here’s a breakdown of how I cleaned the USDA food database to create a reliable dataset for nutritional insights:\n",
    "\n",
    "1. Loading & Initial Inspection\n",
    "Datasets Involved:\n",
    "\n",
    "foods.csv (food metadata),\n",
    "\n",
    "nutrient.csv (nutrient definitions),\n",
    "\n",
    "food_nutrient.csv (nutrient amounts per food),\n",
    "\n",
    "food_portion.csv (serving sizes).\n",
    "\n",
    "First Checks: Printed column names and sample rows to understand the structure and spot inconsistencies (e.g., mixed data types in food_nutrient.csv).\n",
    "\n",
    "2. Cleaning Food Metadata\n",
    "Standardized Descriptions: Converted food names to lowercase and trimmed whitespace to ensure uniformity.\n",
    "\n",
    "Removed Test Entries: Filtered out rows with \"test\" in descriptions to avoid dummy data.\n",
    "\n",
    "Deduplication: Dropped duplicates using fdc_id (unique food ID) to retain one entry per food item.\n",
    "\n",
    "Handling Missing Values: Removed rows with all NaN values, though some columns (like food_category_id) retained NaNs if partial data was acceptable.\n",
    "\n",
    "3. Standardizing Serving Sizes\n",
    "Focused on Grams: Filtered food_portion data to use only gram-based measurements (measure_unit_id = 1), critical for consistent nutritional calculations.\n",
    "\n",
    "Default Serving Size: Assigned 100g as the default serving size for foods lacking portion data to simplify comparisons.\n",
    "\n",
    "4. Identifying Key Nutrients\n",
    "Target Nutrients: Energy (calories), protein, carbohydrates, and fat.\n",
    "\n",
    "Mapped Nutrient IDs: Used exact names from nutrient.csv (e.g., Energy, Total lipid (fat)) to avoid mismatches.\n",
    "\n",
    "5. Merging & Reshaping Data\n",
    "Linked Nutrients to Foods: Joined food_nutrient with nutrient to attach nutrient names to their IDs.\n",
    "\n",
    "Pivoted to Wide Format: Transformed the dataset to have one row per food (fdc_id) with columns for each nutrient’s amount.\n",
    "\n",
    "6. Final Adjustments\n",
    "Calculated per 100g Values: Adjusted nutrient amounts using formula:\n",
    "(nutrient value) * (100 / serving size) for consistency.\n",
    "\n",
    "Renamed Columns: Simplified headers (e.g., Energy → calories) for clarity.\n",
    "\n",
    "Addressed Duplicates: While some foods shared names (e.g., \"banana\"), unique fdc_ids ensured distinct entries were retained.\n",
    "\n",
    "7. Output\n",
    "Saved the cleaned dataset (cleaned_usda_foods.csv) with columns:\n",
    "description, calories, protein, carbs, fat.\n",
    "'''"
   ]
  },
  {
   "cell_type": "code",
   "execution_count": 154,
   "id": "2f94d766-ba50-4781-8e5b-de038bb76085",
   "metadata": {},
   "outputs": [
    {
     "name": "stdin",
     "output_type": "stream",
     "text": [
      "Enter the food item:  banana\n",
      "Enter the amount (in grams):  20\n"
     ]
    },
    {
     "name": "stdout",
     "output_type": "stream",
     "text": [
      "\n",
      "Nutritional Information for 20.0g of banana:\n",
      "Calories: 67.20 kcal\n",
      "Protein: 0.00 g\n",
      "Carbs: 15.71 g\n",
      "Fat: 0.21 g\n"
     ]
    }
   ],
   "source": [
    "#Nutrient finder application \n",
    "import pandas as pd\n",
    "\n",
    "\n",
    "def load_food_database():\n",
    "    \"\"\"Load and prepare the food database\"\"\"\n",
    "    df = pd.read_csv('cleaned_usda_foods.csv')\n",
    "    df.fillna(0, inplace=True)\n",
    "    #print(df.head(20))\n",
    "    return df\n",
    "def nutrition_calculator(df):\n",
    "    # Ask user for input\n",
    "    food = input(\"Enter the food item: \").strip().lower()\n",
    "    amount = float(input(\"Enter the amount (in grams): \").strip())\n",
    "\n",
    "    # Find the food item in the database\n",
    "    food_item = df[df['description'].str.lower() == food]\n",
    "\n",
    "    if food_item.empty:\n",
    "        print(\"Food item not found in the database.\")\n",
    "        return\n",
    "\n",
    "    # Calculate total nutrients\n",
    "    total_calories = (food_item['calories'].values[0] / 100) * amount\n",
    "    total_protein = (food_item['protein'].values[0] / 100) * amount\n",
    "    total_carbs = (food_item['carbs'].values[0] / 100) * amount\n",
    "    total_fat = (food_item['fat'].values[0] / 100) * amount\n",
    "\n",
    "    # Display the results\n",
    "    print(f\"\\nNutritional Information for {amount}g of {food_item['description'].values[0]}:\")\n",
    "    print(f\"Calories: {total_calories:.2f} kcal\")\n",
    "    print(f\"Protein: {total_protein:.2f} g\")\n",
    "    print(f\"Carbs: {total_carbs:.2f} g\")\n",
    "    print(f\"Fat: {total_fat:.2f} g\")\n",
    "\n",
    "# Run the calculator\n",
    "nutrition_calculator(load_food_database())"
   ]
  },
  {
   "cell_type": "code",
   "execution_count": null,
   "id": "16a06ba1-1108-4468-8793-aa144e9b71c9",
   "metadata": {},
   "outputs": [],
   "source": []
  }
 ],
 "metadata": {
  "kernelspec": {
   "display_name": "DataEnv",
   "language": "python",
   "name": "dataenv"
  },
  "language_info": {
   "codemirror_mode": {
    "name": "ipython",
    "version": 3
   },
   "file_extension": ".py",
   "mimetype": "text/x-python",
   "name": "python",
   "nbconvert_exporter": "python",
   "pygments_lexer": "ipython3",
   "version": "3.9.21"
  }
 },
 "nbformat": 4,
 "nbformat_minor": 5
}
